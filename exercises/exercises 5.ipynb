{
 "cells": [
  {
   "cell_type": "code",
   "execution_count": 3,
   "metadata": {},
   "outputs": [
    {
     "name": "stdout",
     "output_type": "stream",
     "text": [
      "is car = subaru? I predict True.\n",
      "True\n",
      "\n",
      "is car == 'audi'?  I predict False.\n",
      "False\n"
     ]
    }
   ],
   "source": [
    "car = 'subaru'\n",
    "print(\"is car = subaru? I predict True.\")\n",
    "print(car == 'subaru')\n",
    "\n",
    "print(\"\\nis car == 'audi'?  I predict False.\")\n",
    "print(car == 'audi')"
   ]
  },
  {
   "cell_type": "code",
   "execution_count": 4,
   "metadata": {},
   "outputs": [
    {
     "name": "stdout",
     "output_type": "stream",
     "text": [
      "is car = subaru? I predict True.\n",
      "True\n",
      "\n",
      "is car == 'toyota'?  I predict False.\n",
      "False\n"
     ]
    }
   ],
   "source": [
    "car = 'subaru'\n",
    "print(\"is car = subaru? I predict True.\")\n",
    "print(car == 'subaru')\n",
    "\n",
    "print(\"\\nis car == 'toyota'?  I predict False.\")\n",
    "print(car == 'toyota')"
   ]
  },
  {
   "cell_type": "code",
   "execution_count": 5,
   "metadata": {},
   "outputs": [
    {
     "name": "stdout",
     "output_type": "stream",
     "text": [
      "is car = subaru? I predict True.\n",
      "True\n",
      "\n",
      "is car == 'nissan'?  I predict False.\n",
      "False\n"
     ]
    }
   ],
   "source": [
    "car = 'subaru'\n",
    "print(\"is car = subaru? I predict True.\")\n",
    "print(car == 'subaru')\n",
    "\n",
    "print(\"\\nis car == 'nissan'?  I predict False.\")\n",
    "print(car == 'nissan')"
   ]
  },
  {
   "cell_type": "code",
   "execution_count": 6,
   "metadata": {},
   "outputs": [
    {
     "name": "stdout",
     "output_type": "stream",
     "text": [
      "is car = subaru? I predict True.\n",
      "True\n",
      "\n",
      "is car == 'ford'?  I predict False.\n",
      "False\n"
     ]
    }
   ],
   "source": [
    "car = 'subaru'\n",
    "print(\"is car = subaru? I predict True.\")\n",
    "print(car == 'subaru')\n",
    "\n",
    "print(\"\\nis car == 'ford'?  I predict False.\")\n",
    "print(car == 'ford')"
   ]
  },
  {
   "cell_type": "code",
   "execution_count": 7,
   "metadata": {},
   "outputs": [
    {
     "name": "stdout",
     "output_type": "stream",
     "text": [
      "is car = subaru? I predict True.\n",
      "True\n",
      "\n",
      "is car == 'lexus'?  I predict False.\n",
      "False\n"
     ]
    }
   ],
   "source": [
    "car = 'subaru'\n",
    "print(\"is car = subaru? I predict True.\")\n",
    "print(car == 'subaru')\n",
    "\n",
    "print(\"\\nis car == 'lexus'?  I predict False.\")\n",
    "print(car == 'lexus')"
   ]
  },
  {
   "cell_type": "code",
   "execution_count": 8,
   "metadata": {},
   "outputs": [
    {
     "name": "stdout",
     "output_type": "stream",
     "text": [
      "is car = subaru? I predict True.\n",
      "True\n",
      "\n",
      "is car == 'volvo'?  I predict False.\n",
      "False\n"
     ]
    }
   ],
   "source": [
    "car = 'subaru'\n",
    "print(\"is car = subaru? I predict True.\")\n",
    "print(car == 'subaru')\n",
    "\n",
    "print(\"\\nis car == 'volvo'?  I predict False.\")\n",
    "print(car == 'volvo')"
   ]
  },
  {
   "cell_type": "code",
   "execution_count": 13,
   "metadata": {},
   "outputs": [
    {
     "name": "stdout",
     "output_type": "stream",
     "text": [
      "10 points\n",
      "5 points\n",
      "10 points\n"
     ]
    }
   ],
   "source": [
    "alien_colors = ['red', 'green', 'yellow']\n",
    "for alien_color in alien_colors:\n",
    "    if alien_color == 'green':\n",
    "        print(\"5 points\")\n",
    "    else:\n",
    "        print(\"10 points\")\n"
   ]
  },
  {
   "cell_type": "code",
   "execution_count": 18,
   "metadata": {},
   "outputs": [
    {
     "name": "stdout",
     "output_type": "stream",
     "text": [
      "15 points\n",
      "5 points\n",
      "10 points\n"
     ]
    }
   ],
   "source": [
    "alien_colors = ['red', 'green', 'yellow']\n",
    "for alien_color in alien_colors:\n",
    "    if alien_color == 'green':\n",
    "        print(\"5 points\")\n",
    "    elif alien_color == 'yellow':\n",
    "        print(\"10 points\")\n",
    "    else:\n",
    "        print(\"15 points\")"
   ]
  },
  {
   "cell_type": "code",
   "execution_count": 21,
   "metadata": {},
   "outputs": [
    {
     "ename": "SyntaxError",
     "evalue": "invalid syntax (<ipython-input-21-47010de763f4>, line 5)",
     "output_type": "error",
     "traceback": [
      "\u001b[1;36m  File \u001b[1;32m\"<ipython-input-21-47010de763f4>\"\u001b[1;36m, line \u001b[1;32m5\u001b[0m\n\u001b[1;33m    elif age = 2:\u001b[0m\n\u001b[1;37m             ^\u001b[0m\n\u001b[1;31mSyntaxError\u001b[0m\u001b[1;31m:\u001b[0m invalid syntax\n"
     ]
    }
   ],
   "source": [
    "age = 25\n",
    "\n",
    "if age < 2:\n",
    "    stage = baby\n",
    "elif age = 2:\n",
    "    stage = toddler\n",
    "elif age = < 4:\n",
    "    stage = toddler\n",
    "elif age = 4:\n",
    "    stage = kid\n",
    "elif age < 13:\n",
    "    stage = kid\n",
    "elif age = 13:\n",
    "    stage = teenager\n",
    "elif age < 20:\n",
    "    stage = teenager \n",
    "elif age = 20:\n",
    "    stage = adult\n",
    "elif age = < 65:\n",
    "    stage = adult\n",
    "elif age = 65:\n",
    "    stage = senior\n",
    "elif age > 65:\n",
    "    stage = senior\n",
    "\n",
    "\n",
    "print(\"The person is a\" + \" \" + stage())\n",
    "\n",
    "\n"
   ]
  },
  {
   "cell_type": "code",
   "execution_count": 25,
   "metadata": {},
   "outputs": [
    {
     "data": {
      "text/plain": [
       "True"
      ]
     },
     "execution_count": 25,
     "metadata": {},
     "output_type": "execute_result"
    }
   ],
   "source": [
    "favorite_fruits = ['peach', 'strawberry', 'blueberry', 'kiwi', 'mango']\n",
    "\n",
    "'peach' in favorite_fruits\n"
   ]
  },
  {
   "cell_type": "code",
   "execution_count": 26,
   "metadata": {},
   "outputs": [
    {
     "data": {
      "text/plain": [
       "False"
      ]
     },
     "execution_count": 26,
     "metadata": {},
     "output_type": "execute_result"
    }
   ],
   "source": [
    "favorite_fruits = ['peach', 'strawberry', 'blueberry', 'kiwi', 'mango']\n",
    "\n",
    "'orange' in favorite_fruits"
   ]
  },
  {
   "cell_type": "code",
   "execution_count": 34,
   "metadata": {},
   "outputs": [
    {
     "name": "stdout",
     "output_type": "stream",
     "text": [
      "you love bananas!\n"
     ]
    }
   ],
   "source": [
    "favorite_fruits = ['peach', 'strawberry', 'blueberry', 'kiwi', 'mango']\n",
    "fruit = 'banana'\n",
    "if fruit not in favorite_fruits:\n",
    "    print(\"you love bananas!\")"
   ]
  },
  {
   "cell_type": "code",
   "execution_count": 41,
   "metadata": {},
   "outputs": [
    {
     "name": "stdout",
     "output_type": "stream",
     "text": [
      "Admin go through the system\n",
      "Angel check out your updates\n",
      "Aaron check out your updates\n",
      "Angela check out your updates\n",
      "Annie check out your updates\n"
     ]
    }
   ],
   "source": [
    "usernames = ['admin', 'angel', 'aaron', 'angela', 'annie']\n",
    "for username in usernames:\n",
    "    if username == 'admin':\n",
    "        print(username.title() + \" \" + \"go through the system\")\n",
    "    else:\n",
    "        print(username.title() + \" \" + \"check out your updates\")\n"
   ]
  },
  {
   "cell_type": "code",
   "execution_count": 42,
   "metadata": {},
   "outputs": [
    {
     "data": {
      "text/plain": [
       "5"
      ]
     },
     "execution_count": 42,
     "metadata": {},
     "output_type": "execute_result"
    }
   ],
   "source": [
    "len(usernames)"
   ]
  },
  {
   "cell_type": "code",
   "execution_count": 44,
   "metadata": {},
   "outputs": [
    {
     "name": "stdout",
     "output_type": "stream",
     "text": [
      "username available\n",
      "username available\n",
      "find new username\n",
      "username available\n",
      "find new username\n"
     ]
    }
   ],
   "source": [
    "current_users = ['dave', 'alix', 'khush', 'marisa', 'jess']\n",
    "new_users = ['steph', 'jimmy', 'alix', 'kate', 'jess']\n",
    "\n",
    "for new_user in new_users:\n",
    "    if new_user in current_users:\n",
    "        print(\"find new username\")\n",
    "    else:\n",
    "        print(\"username available\")"
   ]
  },
  {
   "cell_type": "code",
   "execution_count": null,
   "metadata": {},
   "outputs": [],
   "source": []
  }
 ],
 "metadata": {
  "kernelspec": {
   "display_name": "Python 3",
   "language": "python",
   "name": "python3"
  },
  "language_info": {
   "codemirror_mode": {
    "name": "ipython",
    "version": 3
   },
   "file_extension": ".py",
   "mimetype": "text/x-python",
   "name": "python",
   "nbconvert_exporter": "python",
   "pygments_lexer": "ipython3",
   "version": "3.7.6"
  }
 },
 "nbformat": 4,
 "nbformat_minor": 2
}
