{
 "cells": [
  {
   "cell_type": "code",
   "execution_count": 1,
   "metadata": {},
   "outputs": [
    {
     "name": "stdout",
     "output_type": "stream",
     "text": [
      "i am so tired\n"
     ]
    }
   ],
   "source": [
    "message = \"i am so tired\"\n",
    "print(message)"
   ]
  },
  {
   "cell_type": "code",
   "execution_count": 7,
   "metadata": {
    "scrolled": true
   },
   "outputs": [
    {
     "name": "stdout",
     "output_type": "stream",
     "text": [
      "i am super tired\n"
     ]
    }
   ],
   "source": [
    "message = \"i am super tired\"\n",
    "print(message)"
   ]
  },
  {
   "cell_type": "code",
   "execution_count": 13,
   "metadata": {},
   "outputs": [
    {
     "name": "stdout",
     "output_type": "stream",
     "text": [
      "misspeggy\n"
     ]
    }
   ],
   "source": [
    "first_name = \"miss\"\n",
    "last_name = \"peggy\"\n",
    "print(first_name + last_name)"
   ]
  },
  {
   "cell_type": "code",
   "execution_count": 18,
   "metadata": {},
   "outputs": [
    {
     "name": "stdout",
     "output_type": "stream",
     "text": [
      "miss peggy\n"
     ]
    }
   ],
   "source": [
    "# combine the variables' values separated by a space\n",
    "# whitespace is also a string\n",
    "# save results to a new variable \"full_name\"\n",
    "full_name = first_name + \" \" + last_name\n",
    "print(full_name)"
   ]
  },
  {
   "cell_type": "code",
   "execution_count": 23,
   "metadata": {},
   "outputs": [
    {
     "name": "stdout",
     "output_type": "stream",
     "text": [
      "Go home, Miss Peggy$\n"
     ]
    }
   ],
   "source": [
    "# show output of value stored in \"full_name\"\n",
    "print(\"Go home, \" + full_name.title() + \"$\")\n"
   ]
  },
  {
   "cell_type": "code",
   "execution_count": 24,
   "metadata": {},
   "outputs": [
    {
     "name": "stdout",
     "output_type": "stream",
     "text": [
      "Miss Peggy\n"
     ]
    }
   ],
   "source": [
    "# define a variable \"name\" with the string value \"ada lovelace\"\n",
    "name = \"miss peggy\"\n",
    "# will title case to \"Ada Lovelace\"\n",
    "print(name.title())\n"
   ]
  },
  {
   "cell_type": "code",
   "execution_count": 25,
   "metadata": {},
   "outputs": [
    {
     "name": "stdout",
     "output_type": "stream",
     "text": [
      "MISS PEGGY\n"
     ]
    }
   ],
   "source": [
    "print(name.upper())"
   ]
  },
  {
   "cell_type": "code",
   "execution_count": 26,
   "metadata": {},
   "outputs": [
    {
     "name": "stdout",
     "output_type": "stream",
     "text": [
      "miss peggy\n"
     ]
    }
   ],
   "source": [
    "# all lowercase letters \"ada lovelace\"\n",
    "print(name.lower())"
   ]
  },
  {
   "cell_type": "code",
   "execution_count": 34,
   "metadata": {},
   "outputs": [
    {
     "name": "stdout",
     "output_type": "stream",
     "text": [
      "frederick douglass once said 'it is better to raise strong children than fix broken men'\n"
     ]
    }
   ],
   "source": [
    "quote = \"'it is better to raise strong children than fix broken men'\"\n",
    "print(\"frederick douglass once said\" + \" \" + quote)"
   ]
  },
  {
   "cell_type": "code",
   "execution_count": 35,
   "metadata": {},
   "outputs": [
    {
     "name": "stdout",
     "output_type": "stream",
     "text": [
      "frederick douglass once said 'it is better to raise strong children than fix broken men'\n"
     ]
    }
   ],
   "source": [
    "quote = \"'it is better to raise strong children than fix broken men'\"\n",
    "famous_person = \"frederick douglass\"\n",
    "print(famous_person + \" \" + \"once said\" + \" \" + quote)\n"
   ]
  },
  {
   "cell_type": "code",
   "execution_count": 36,
   "metadata": {},
   "outputs": [],
   "source": [
    "namie = \"rocky bullwinkle\""
   ]
  },
  {
   "cell_type": "code",
   "execution_count": 39,
   "metadata": {},
   "outputs": [
    {
     "name": "stdout",
     "output_type": "stream",
     "text": [
      "\tname\n"
     ]
    }
   ],
   "source": [
    "print(\"\\tname\")"
   ]
  },
  {
   "cell_type": "code",
   "execution_count": 42,
   "metadata": {},
   "outputs": [
    {
     "name": "stdout",
     "output_type": "stream",
     "text": [
      "name\n",
      "miss peggy\n"
     ]
    }
   ],
   "source": [
    "print(\"name\\n\" + name)"
   ]
  },
  {
   "cell_type": "code",
   "execution_count": 43,
   "metadata": {},
   "outputs": [
    {
     "data": {
      "text/plain": [
       "8"
      ]
     },
     "execution_count": 43,
     "metadata": {},
     "output_type": "execute_result"
    }
   ],
   "source": [
    "4*3-2+5-7"
   ]
  },
  {
   "cell_type": "code",
   "execution_count": 55,
   "metadata": {},
   "outputs": [],
   "source": [
    "number = 14\n"
   ]
  },
  {
   "cell_type": "code",
   "execution_count": 58,
   "metadata": {},
   "outputs": [
    {
     "name": "stdout",
     "output_type": "stream",
     "text": [
      "my favorite number is 14\n"
     ]
    }
   ],
   "source": [
    "number = 14\n",
    "# use the str() function to turn integer into string\n",
    "# this allows all the values to concatenate properly\n",
    "print(\"my favorite number is\" + \" \" + str(number))"
   ]
  },
  {
   "cell_type": "code",
   "execution_count": null,
   "metadata": {},
   "outputs": [],
   "source": [
    "#this is a big ole comment and will not affect the code\n",
    "print(\"my favorite number is\" + \" \" + str(number))"
   ]
  },
  {
   "cell_type": "code",
   "execution_count": null,
   "metadata": {},
   "outputs": [],
   "source": []
  },
  {
   "cell_type": "code",
   "execution_count": null,
   "metadata": {},
   "outputs": [],
   "source": []
  }
 ],
 "metadata": {
  "kernelspec": {
   "display_name": "Python 3",
   "language": "python",
   "name": "python3"
  },
  "language_info": {
   "codemirror_mode": {
    "name": "ipython",
    "version": 3
   },
   "file_extension": ".py",
   "mimetype": "text/x-python",
   "name": "python",
   "nbconvert_exporter": "python",
   "pygments_lexer": "ipython3",
   "version": "3.7.6"
  }
 },
 "nbformat": 4,
 "nbformat_minor": 2
}
