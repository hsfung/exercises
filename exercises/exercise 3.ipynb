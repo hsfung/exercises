{
 "cells": [
  {
   "cell_type": "code",
   "execution_count": 1,
   "metadata": {},
   "outputs": [
    {
     "name": "stdout",
     "output_type": "stream",
     "text": [
      "['alix', 'dave', 'khush', 'marisa', 'suz']\n"
     ]
    }
   ],
   "source": [
    "names = ['alix', 'dave', 'khush', 'marisa', 'suz' ]\n",
    "print(names)"
   ]
  },
  {
   "cell_type": "code",
   "execution_count": 7,
   "metadata": {},
   "outputs": [
    {
     "name": "stdout",
     "output_type": "stream",
     "text": [
      "alix\n",
      "dave\n",
      "khush\n",
      "marisa\n",
      "suz\n"
     ]
    }
   ],
   "source": [
    "for name in names:\n",
    "    print(name)"
   ]
  },
  {
   "cell_type": "code",
   "execution_count": 10,
   "metadata": {},
   "outputs": [
    {
     "name": "stdout",
     "output_type": "stream",
     "text": [
      "Alix is someone i can count on\n",
      "Dave is someone i can count on\n",
      "Khush is someone i can count on\n",
      "Marisa is someone i can count on\n",
      "Suz is someone i can count on\n"
     ]
    }
   ],
   "source": [
    "for name in names:\n",
    "    print(name.title() + \" \" + \"is someone i can count on\")"
   ]
  },
  {
   "cell_type": "code",
   "execution_count": 14,
   "metadata": {},
   "outputs": [
    {
     "name": "stdout",
     "output_type": "stream",
     "text": [
      "apple\n",
      "peach\n",
      "blueberry\n",
      "cherry\n",
      "strawberry\n",
      "chess\n",
      "pecan\n"
     ]
    }
   ],
   "source": [
    "pies = ['apple', 'peach', 'blueberry','cherry', 'strawberry', 'chess', 'pecan']\n",
    "for pie in pies:\n",
    "    print(pie)"
   ]
  },
  {
   "cell_type": "code",
   "execution_count": 18,
   "metadata": {},
   "outputs": [
    {
     "name": "stdout",
     "output_type": "stream",
     "text": [
      "i love to eat Apple pie\n",
      "i love to eat Peach pie\n",
      "i love to eat Blueberry pie\n",
      "i love to eat Cherry pie\n",
      "i love to eat Strawberry pie\n",
      "i love to eat Chess pie\n",
      "i love to eat Pecan pie\n"
     ]
    }
   ],
   "source": [
    "for pie in pies:\n",
    "    print(\"i love to eat\" + \" \" + pie.title() + \" \" + \"pie\")"
   ]
  },
  {
   "cell_type": "code",
   "execution_count": 27,
   "metadata": {},
   "outputs": [
    {
     "name": "stdout",
     "output_type": "stream",
     "text": [
      "['McKinnon', 'Obama', 'Goldberg', 'Questlove', 'Fallon', 'Noah']\n"
     ]
    }
   ],
   "source": [
    "dinners = ['McKinnon', 'Obama', 'Goldberg', 'Questlove', 'Fallon', 'Noah']\n",
    "print(dinners)"
   ]
  },
  {
   "cell_type": "code",
   "execution_count": 28,
   "metadata": {},
   "outputs": [
    {
     "name": "stdout",
     "output_type": "stream",
     "text": [
      "Mckinnon please come to dinner\n",
      "Obama please come to dinner\n",
      "Goldberg please come to dinner\n",
      "Questlove please come to dinner\n",
      "Fallon please come to dinner\n",
      "Noah please come to dinner\n"
     ]
    }
   ],
   "source": [
    "for dinner in dinners:\n",
    "    print(dinner.title() + \" \" + \"please come to dinner\")"
   ]
  },
  {
   "cell_type": "code",
   "execution_count": 30,
   "metadata": {},
   "outputs": [
    {
     "name": "stdout",
     "output_type": "stream",
     "text": [
      "['McKinnon', 'Obama', 'Questlove', 'Fallon', 'Noah']\n"
     ]
    }
   ],
   "source": [
    "dinners.remove('Goldberg')\n",
    "print(dinners)"
   ]
  },
  {
   "cell_type": "code",
   "execution_count": 31,
   "metadata": {},
   "outputs": [
    {
     "name": "stdout",
     "output_type": "stream",
     "text": [
      "['McKinnon', 'Obama', 'Degeneres', 'Questlove', 'Fallon', 'Noah']\n"
     ]
    }
   ],
   "source": [
    "dinners = ['McKinnon', 'Obama', 'Degeneres', 'Questlove', 'Fallon', 'Noah']\n",
    "print(dinners)"
   ]
  },
  {
   "cell_type": "code",
   "execution_count": 32,
   "metadata": {},
   "outputs": [
    {
     "name": "stdout",
     "output_type": "stream",
     "text": [
      "['Pelosi', 'McKinnon', 'Obama', 'Degeneres', 'Questlove', 'Fallon', 'Noah']\n"
     ]
    }
   ],
   "source": [
    "dinners.insert(0, 'Pelosi')\n",
    "print(dinners)"
   ]
  },
  {
   "cell_type": "code",
   "execution_count": 33,
   "metadata": {},
   "outputs": [
    {
     "name": "stdout",
     "output_type": "stream",
     "text": [
      "['Pelosi', 'McKinnon', 'Obama', 'Degeneres', 'Questlove', 'Fallon']\n"
     ]
    }
   ],
   "source": [
    "popped_dinner = dinners.pop()\n",
    "print(dinners)"
   ]
  },
  {
   "cell_type": "code",
   "execution_count": 34,
   "metadata": {},
   "outputs": [
    {
     "name": "stdout",
     "output_type": "stream",
     "text": [
      "['Pelosi', 'McKinnon', 'Obama', 'Degeneres', 'Questlove']\n"
     ]
    }
   ],
   "source": [
    "popped_dinner = dinners.pop()\n",
    "print(dinners)"
   ]
  },
  {
   "cell_type": "code",
   "execution_count": 35,
   "metadata": {},
   "outputs": [
    {
     "name": "stdout",
     "output_type": "stream",
     "text": [
      "['Pelosi', 'McKinnon', 'Obama', 'Degeneres']\n"
     ]
    }
   ],
   "source": [
    "popped_dinner = dinners.pop()\n",
    "print(dinners)"
   ]
  },
  {
   "cell_type": "code",
   "execution_count": 36,
   "metadata": {},
   "outputs": [
    {
     "name": "stdout",
     "output_type": "stream",
     "text": [
      "['Pelosi', 'McKinnon', 'Obama']\n"
     ]
    }
   ],
   "source": [
    "popped_dinner = dinners.pop()\n",
    "print(dinners)"
   ]
  },
  {
   "cell_type": "code",
   "execution_count": 37,
   "metadata": {},
   "outputs": [
    {
     "name": "stdout",
     "output_type": "stream",
     "text": [
      "['Pelosi', 'McKinnon']\n"
     ]
    }
   ],
   "source": [
    "popped_dinner = dinners.pop()\n",
    "print(dinners)"
   ]
  },
  {
   "cell_type": "code",
   "execution_count": 39,
   "metadata": {},
   "outputs": [
    {
     "name": "stdout",
     "output_type": "stream",
     "text": [
      "['McKinnon']\n"
     ]
    }
   ],
   "source": [
    "del dinners[0]\n",
    "print(dinners)"
   ]
  },
  {
   "cell_type": "code",
   "execution_count": 40,
   "metadata": {},
   "outputs": [
    {
     "name": "stdout",
     "output_type": "stream",
     "text": [
      "['india', 'morocco', 'australia', 'italy', 'greece']\n"
     ]
    }
   ],
   "source": [
    "locations = ['india', 'morocco', 'australia', 'italy', 'greece']\n",
    "print(locations)"
   ]
  },
  {
   "cell_type": "code",
   "execution_count": 41,
   "metadata": {},
   "outputs": [
    {
     "name": "stdout",
     "output_type": "stream",
     "text": [
      "['australia', 'greece', 'india', 'italy', 'morocco']\n"
     ]
    }
   ],
   "source": [
    "print(sorted(locations))"
   ]
  },
  {
   "cell_type": "code",
   "execution_count": 42,
   "metadata": {},
   "outputs": [
    {
     "name": "stdout",
     "output_type": "stream",
     "text": [
      "['india', 'morocco', 'australia', 'italy', 'greece']\n"
     ]
    }
   ],
   "source": [
    "print(locations)"
   ]
  },
  {
   "cell_type": "code",
   "execution_count": 47,
   "metadata": {},
   "outputs": [
    {
     "name": "stdout",
     "output_type": "stream",
     "text": [
      "['greece', 'italy', 'australia', 'morocco', 'india']\n"
     ]
    }
   ],
   "source": [
    "locations.reverse()\n",
    "print(locations)"
   ]
  },
  {
   "cell_type": "code",
   "execution_count": 48,
   "metadata": {},
   "outputs": [
    {
     "name": "stdout",
     "output_type": "stream",
     "text": [
      "['india', 'morocco', 'australia', 'italy', 'greece']\n"
     ]
    }
   ],
   "source": [
    "locations.reverse()\n",
    "print(locations)"
   ]
  },
  {
   "cell_type": "code",
   "execution_count": 49,
   "metadata": {},
   "outputs": [
    {
     "name": "stdout",
     "output_type": "stream",
     "text": [
      "['australia', 'greece', 'india', 'italy', 'morocco']\n"
     ]
    }
   ],
   "source": [
    "locations.sort()\n",
    "print(locations)"
   ]
  },
  {
   "cell_type": "code",
   "execution_count": 50,
   "metadata": {},
   "outputs": [
    {
     "name": "stdout",
     "output_type": "stream",
     "text": [
      "['morocco', 'italy', 'india', 'greece', 'australia']\n"
     ]
    }
   ],
   "source": [
    "locations.sort(reverse=True)\n",
    "print(locations)"
   ]
  },
  {
   "cell_type": "code",
   "execution_count": 51,
   "metadata": {},
   "outputs": [
    {
     "name": "stdout",
     "output_type": "stream",
     "text": [
      "['McKinnon']\n"
     ]
    }
   ],
   "source": [
    "len(dinners)\n",
    "print(dinners)"
   ]
  },
  {
   "cell_type": "code",
   "execution_count": null,
   "metadata": {},
   "outputs": [],
   "source": []
  }
 ],
 "metadata": {
  "kernelspec": {
   "display_name": "Python 3",
   "language": "python",
   "name": "python3"
  },
  "language_info": {
   "codemirror_mode": {
    "name": "ipython",
    "version": 3
   },
   "file_extension": ".py",
   "mimetype": "text/x-python",
   "name": "python",
   "nbconvert_exporter": "python",
   "pygments_lexer": "ipython3",
   "version": "3.7.6"
  }
 },
 "nbformat": 4,
 "nbformat_minor": 2
}
