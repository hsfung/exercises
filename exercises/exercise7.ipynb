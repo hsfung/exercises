{
 "cells": [
  {
   "cell_type": "code",
   "execution_count": 1,
   "metadata": {},
   "outputs": [
    {
     "name": "stdout",
     "output_type": "stream",
     "text": [
      "What kind of car do you want to rent?volvo\n",
      "\n",
      "We will see if a volvo is available\n"
     ]
    }
   ],
   "source": [
    "prompt = \"What kind of car do you want to rent?\"\n",
    "name = input(prompt)\n",
    "print(\"\\nWe will see if a\" + \" \" + name + \" \" + \"is available\")\n"
   ]
  },
  {
   "cell_type": "code",
   "execution_count": 2,
   "metadata": {},
   "outputs": [
    {
     "name": "stdout",
     "output_type": "stream",
     "text": [
      "how many diners are in your party? 9\n",
      "\n",
      "you have to wait for a table\n"
     ]
    }
   ],
   "source": [
    "diner = input(\"how many diners are in your party? \")\n",
    "diner = int(diner)\n",
    "if diner >= 8:\n",
    "    print(\"\\nyou have to wait for a table\")\n",
    "else:\n",
    "    print(\"\\nyour table is ready\")\n"
   ]
  },
  {
   "cell_type": "code",
   "execution_count": 3,
   "metadata": {},
   "outputs": [
    {
     "name": "stdout",
     "output_type": "stream",
     "text": [
      "how many diners are in your party? 2\n",
      "\n",
      "your table is ready\n"
     ]
    }
   ],
   "source": [
    "diner = input(\"how many diners are in your party? \")\n",
    "diner = int(diner)\n",
    "if diner >= 8:\n",
    "    print(\"\\nyou have to wait for a table\")\n",
    "else:\n",
    "    print(\"\\nyour table is ready\")"
   ]
  },
  {
   "cell_type": "code",
   "execution_count": 5,
   "metadata": {},
   "outputs": [
    {
     "name": "stdout",
     "output_type": "stream",
     "text": [
      "is this a multiple of 10? 4\n",
      "\n",
      "4 is not a multiple of 10\n"
     ]
    }
   ],
   "source": [
    "number = input(\"is this a multiple of 10? \")\n",
    "number = int(number)\n",
    "if number % 10 == 0:\n",
    "    print(\"\\n\" + str(number) + \" is a multiple of 10\")\n",
    "else:\n",
    "    print(\"\\n\" + str(number) + \" is not a multiple of 10\")"
   ]
  },
  {
   "cell_type": "code",
   "execution_count": 6,
   "metadata": {},
   "outputs": [
    {
     "name": "stdout",
     "output_type": "stream",
     "text": [
      "is this a multiple of 10? 300\n",
      "\n",
      "300 is a multiple of 10\n"
     ]
    }
   ],
   "source": [
    "number = input(\"is this a multiple of 10? \")\n",
    "number = int(number)\n",
    "if number % 10 == 0:\n",
    "    print(\"\\n\" + str(number) + \" is a multiple of 10\")\n",
    "else:\n",
    "    print(\"\\n\" + str(number) + \" is not a multiple of 10\")"
   ]
  },
  {
   "cell_type": "code",
   "execution_count": 16,
   "metadata": {},
   "outputs": [
    {
     "name": "stdout",
     "output_type": "stream",
     "text": [
      "What is your age? 12\n",
      "\n",
      "ticket is $12\n"
     ]
    }
   ],
   "source": [
    "age = input(\"What is your age? \")\n",
    "age = int(age)\n",
    "if age < 3:\n",
    "    print(\"\\nfree ticket\")\n",
    "elif age in range(3,12):\n",
    "    print(\"\\nticket is $10\")   \n",
    "else:\n",
    "    print(\"\\nticket is $12\")"
   ]
  },
  {
   "cell_type": "code",
   "execution_count": 20,
   "metadata": {},
   "outputs": [
    {
     "name": "stdout",
     "output_type": "stream",
     "text": [
      "your Chicken is done\n",
      "your Ham is done\n",
      "your Californian is done\n",
      "your Turkey is done\n",
      "your Vegan is done\n",
      "your Pastrami is done\n",
      "\n",
      "these sandwiches are made:\n",
      "Chicken\n",
      "Ham\n",
      "Californian\n",
      "Turkey\n",
      "Vegan\n",
      "Pastrami\n"
     ]
    }
   ],
   "source": [
    "sandwich_orders = ['pastrami', 'vegan', 'turkey', 'californian', 'ham', 'chicken']\n",
    "finished_sandwiches = []\n",
    "\n",
    "while sandwich_orders:\n",
    "    current_sandwich = sandwich_orders.pop()\n",
    "    print(\"your\" + \" \" + current_sandwich.title() + \" \" + \"is done\")\n",
    "\n",
    "    finished_sandwiches.append(current_sandwich)\n",
    "\n",
    "# Display all confirmed users.\n",
    "print(\"\\nthese sandwiches are made:\")\n",
    "for finished_sandwich in finished_sandwiches:\n",
    "    print(finished_sandwich.title())\n",
    "\n"
   ]
  },
  {
   "cell_type": "code",
   "execution_count": 21,
   "metadata": {},
   "outputs": [
    {
     "name": "stdout",
     "output_type": "stream",
     "text": [
      "['pastrami', 'vegan', 'pastrami', 'californian', 'pastrami', 'chicken']\n",
      "['vegan', 'californian', 'chicken']\n"
     ]
    }
   ],
   "source": [
    "sandwich_orders = ['pastrami', 'vegan', 'pastrami', 'californian', 'pastrami', 'chicken']\n",
    "print(sandwich_orders)\n",
    "while 'pastrami' in sandwich_orders:\n",
    "    sandwich_orders.remove('pastrami')\n",
    "print(sandwich_orders)\n"
   ]
  },
  {
   "cell_type": "code",
   "execution_count": 1,
   "metadata": {},
   "outputs": [
    {
     "name": "stdout",
     "output_type": "stream",
     "text": [
      "\n",
      "what is your name? jaz\n",
      "what is your dream vacation? paris\n",
      "Would you like to let another person respond? (yes/ no) n\n",
      "\n",
      "what is your name? jaz\n",
      "what is your dream vacation? bali\n",
      "Would you like to let another person respond? (yes/ no) no\n",
      "\n",
      "--- Poll Results ---\n",
      "jaz's dream vacation bali.\n"
     ]
    }
   ],
   "source": [
    "responses = {}\n",
    "# Set a flag to indicate that polling is active.\n",
    "polling_active = True\n",
    "while polling_active:\n",
    " # Prompt for the person's name and response.\n",
    "    name = input(\"\\nwhat is your name? \")\n",
    "    response = input(\"what is your dream vacation? \")\n",
    "\n",
    " # Store the response in the dictionary:\n",
    "    responses[name] = response\n",
    "\n",
    " # Find out if anyone else is going to take the poll.\n",
    "    repeat = input(\"Would you like to let another person respond? (yes/ no) \")\n",
    "\n",
    "    if repeat == 'no':\n",
    "        polling_active = False\n",
    "\n",
    " # Polling is complete. Show the results.\n",
    "print(\"\\n--- Poll Results ---\")\n",
    "for name, response in responses.items():\n",
    "    print(name + \"'s dream vacation \" + response + \".\")\n"
   ]
  },
  {
   "cell_type": "code",
   "execution_count": null,
   "metadata": {},
   "outputs": [],
   "source": []
  }
 ],
 "metadata": {
  "kernelspec": {
   "display_name": "Python 3",
   "language": "python",
   "name": "python3"
  },
  "language_info": {
   "codemirror_mode": {
    "name": "ipython",
    "version": 3
   },
   "file_extension": ".py",
   "mimetype": "text/x-python",
   "name": "python",
   "nbconvert_exporter": "python",
   "pygments_lexer": "ipython3",
   "version": "3.7.6"
  }
 },
 "nbformat": 4,
 "nbformat_minor": 2
}
